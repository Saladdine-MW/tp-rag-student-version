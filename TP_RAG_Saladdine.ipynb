{
  "nbformat": 4,
  "nbformat_minor": 0,
  "metadata": {
    "colab": {
      "provenance": [],
      "authorship_tag": "ABX9TyO1Koz1F13g1M4eE3eKg8iR",
      "include_colab_link": true
    },
    "kernelspec": {
      "name": "python3",
      "display_name": "Python 3"
    },
    "language_info": {
      "name": "python"
    }
  },
  "cells": [
    {
      "cell_type": "markdown",
      "metadata": {
        "id": "view-in-github",
        "colab_type": "text"
      },
      "source": [
        "<a href=\"https://colab.research.google.com/github/Saladdine-MW/tp-rag-student-version/blob/main/TP_RAG_Saladdine.ipynb\" target=\"_parent\"><img src=\"https://colab.research.google.com/assets/colab-badge.svg\" alt=\"Open In Colab\"/></a>"
      ]
    },
    {
      "cell_type": "code",
      "execution_count": 2,
      "metadata": {
        "id": "Ulc_0QlOLgFr",
        "colab": {
          "base_uri": "https://localhost:8080/"
        },
        "outputId": "f8d90963-78c9-495c-eb34-adacd87cbc76"
      },
      "outputs": [
        {
          "output_type": "stream",
          "name": "stdout",
          "text": [
            "Cloning into 'tp-rag-student-version'...\n",
            "remote: Enumerating objects: 75, done.\u001b[K\n",
            "remote: Total 75 (delta 0), reused 0 (delta 0), pack-reused 75 (from 1)\u001b[K\n",
            "Receiving objects: 100% (75/75), 93.16 MiB | 36.12 MiB/s, done.\n"
          ]
        }
      ],
      "source": [
        "!git clone https://github.com/Saladdine-MW/tp-rag-student-version.git"
      ]
    },
    {
      "cell_type": "code",
      "source": [],
      "metadata": {
        "id": "3894KQ5GLlbB"
      },
      "execution_count": null,
      "outputs": []
    }
  ]
}